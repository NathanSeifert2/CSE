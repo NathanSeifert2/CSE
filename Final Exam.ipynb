{
 "cells": [
  {
   "cell_type": "markdown",
   "id": "00406f50",
   "metadata": {},
   "source": [
    "# Problem 1"
   ]
  },
  {
   "cell_type": "code",
   "execution_count": 7,
   "id": "bf967e4f",
   "metadata": {},
   "outputs": [
    {
     "name": "stdout",
     "output_type": "stream",
     "text": [
      "Length of the string 38\n",
      "Is the Length evenly divisble by 5? False\n",
      "Trimmed string: Hello, little people of Earth!\n",
      "First 5 Characters: Hello\n",
      "Resulting String: Helloooooooooooooooooooooooooooooooooooooooooooooooooooooooooooo\n"
     ]
    }
   ],
   "source": [
    " greeting = \"  Hello, little people of Earth!      \"\n",
    "\n",
    "length_of_greeting = len(greeting)\n",
    "print(\"Length of the string\", length_of_greeting)\n",
    "\n",
    "is_divisible_by_5 = (length_of_greeting % 5 == 0)\n",
    "print(\"Is the Length evenly divisble by 5?\", is_divisible_by_5)\n",
    "\n",
    "trimmed_greeting = greeting.strip()\n",
    "print(\"Trimmed string:\", trimmed_greeting)\n",
    "\n",
    "first_five_characters = trimmed_greeting[:5]\n",
    "print(\"First 5 Characters:\", first_five_characters)\n",
    "\n",
    "resulting_string = first_five_characters + 'o' * 59\n",
    "print(\"Resulting String:\", resulting_string)"
   ]
  },
  {
   "cell_type": "code",
   "execution_count": 10,
   "id": "76307f8e",
   "metadata": {},
   "outputs": [
    {
     "name": "stdout",
     "output_type": "stream",
     "text": [
      "41\n",
      "kazow\n",
      "43\n",
      "44\n",
      "wow\n",
      "46\n",
      "47\n",
      "48\n",
      "kazow\n",
      "wow\n",
      "51\n",
      "52\n",
      "53\n",
      "54\n",
      "wow\n",
      "kazow\n",
      "57\n",
      "58\n",
      "59\n",
      "wow\n",
      "61\n",
      "62\n",
      "kazow\n",
      "64\n",
      "wow\n",
      "66\n",
      "67\n",
      "68\n",
      "69\n",
      "wowkazow\n",
      "71\n",
      "72\n",
      "73\n",
      "74\n",
      "wow\n",
      "76\n",
      "kazow\n",
      "78\n",
      "79\n",
      "wow\n",
      "81\n",
      "82\n",
      "83\n",
      "kazow\n",
      "wow\n",
      "86\n",
      "87\n",
      "88\n"
     ]
    }
   ],
   "source": [
    "def wow_kazow(number):\n",
    "    \n",
    "    if number % 5 == 0 and number % 7 == 0:\n",
    "        return \"wowkazow\"\n",
    "    \n",
    "    elif number % 5 == 0:\n",
    "        return \"wow\"\n",
    "    \n",
    "    elif number %  7 == 0:\n",
    "        return \"kazow\"\n",
    "    \n",
    "    else:\n",
    "        return number\n",
    "    \n",
    "def main():\n",
    "    \n",
    "    for number in range(41,89):\n",
    "        result = wow_kazow(number)\n",
    "        \n",
    "        print(result)\n",
    "        \n",
    "main()"
   ]
  },
  {
   "cell_type": "code",
   "execution_count": 33,
   "id": "fd035b0f",
   "metadata": {},
   "outputs": [],
   "source": [
    "class Glasses:\n",
    "    def __init__(self, color, price, prescription):\n",
    "        self.color = color\n",
    "        self._price = price\n",
    "        self._prescription = prescription\n",
    "        \n",
    "    def set_price(self, price):\n",
    "        self._price = price\n",
    "    \n",
    "    def get_price(self):\n",
    "        return self._price\n",
    "\n",
    "    def set_prescription(self, prescription):\n",
    "        self._prescription = prescription\n",
    "    \n",
    "    def get_prescription(self):\n",
    "        return self._prescription\n",
    "\n",
    "    def __str__(self):\n",
    "        return f\"Glasses(color={self.color}, price={self._price}, prescription={self._prescription})\"\n",
    "\n",
    "class Bifocals(Glasses):\n",
    "    def __init__(self, color, price, prescription, reading_prescription):\n",
    "        super().__init__(color, price, prescription)\n",
    "        self._reading_prescription = reading_prescription\n",
    "        \n",
    "    def set_reading_prescription(self, reading_prescription):\n",
    "        self._reading_prescription = reading_prescription\n",
    "        \n",
    "    def get_reading_prescription(self):\n",
    "        return self._reading_prescription\n",
    "    \n",
    "    def __str__(self):\n",
    "        return (f\"Bifocals(color={self.color}, price={self._price}, prescription={self._prescription}, \"\n",
    "                f\"reading_prescription={self._reading_prescription})\")"
   ]
  },
  {
   "cell_type": "code",
   "execution_count": null,
   "id": "19e6523f",
   "metadata": {},
   "outputs": [],
   "source": []
  }
 ],
 "metadata": {
  "kernelspec": {
   "display_name": "Python 3 (ipykernel)",
   "language": "python",
   "name": "python3"
  },
  "language_info": {
   "codemirror_mode": {
    "name": "ipython",
    "version": 3
   },
   "file_extension": ".py",
   "mimetype": "text/x-python",
   "name": "python",
   "nbconvert_exporter": "python",
   "pygments_lexer": "ipython3",
   "version": "3.11.7"
  }
 },
 "nbformat": 4,
 "nbformat_minor": 5
}
