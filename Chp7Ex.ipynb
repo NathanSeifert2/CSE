{
 "cells": [
  {
   "cell_type": "markdown",
   "id": "3482e462",
   "metadata": {},
   "source": [
    "# Algorithm Workbench Problem 1"
   ]
  },
  {
   "cell_type": "code",
   "execution_count": 1,
   "id": "c13daafd",
   "metadata": {},
   "outputs": [],
   "source": [
    "scientists = ['Einstein', 'Newton', 'Copernicus', 'Kepler']"
   ]
  },
  {
   "cell_type": "markdown",
   "id": "df06715a",
   "metadata": {},
   "source": [
    "To create a list of famous scientists, I start by defining a variable named scientists. Using square brackets, I list the names 'Einstein', 'Newton', 'Copernicus', and 'Kepler' as strings separated by commas. By doing this, I generate a list containing these four elements, which I can then access or iterate over in my code."
   ]
  },
  {
   "cell_type": "markdown",
   "id": "8da9582f",
   "metadata": {},
   "source": [
    "# Algorithm Workbench Problem 7"
   ]
  },
  {
   "cell_type": "code",
   "execution_count": 4,
   "id": "2009234d",
   "metadata": {},
   "outputs": [
    {
     "data": {
      "text/plain": [
       "[40, 50, 60, 10, 20, 30]"
      ]
     },
     "execution_count": 4,
     "metadata": {},
     "output_type": "execute_result"
    }
   ],
   "source": [
    "[40, 50, 60, 10, 20, 30]\n"
   ]
  },
  {
   "cell_type": "markdown",
   "id": "7021b460",
   "metadata": {},
   "source": [
    "First, I define two lists, list1 and list2, with the values [40, 50, 60] and [10, 20, 30] respectively. Then, I use the + operator to concatenate these two lists into a new list called list3. Finally, I print list3, which outputs [40, 50, 60, 10, 20, 30], showing the combined elements of both lists in order."
   ]
  },
  {
   "cell_type": "markdown",
   "id": "eafeddc7",
   "metadata": {},
   "source": [
    "# Programming Exercise Problem 1"
   ]
  },
  {
   "cell_type": "code",
   "execution_count": 5,
   "id": "4713eb59",
   "metadata": {},
   "outputs": [
    {
     "name": "stdout",
     "output_type": "stream",
     "text": [
      "Enter the sales for day 1: 200\n",
      "Enter the sales for day 2: 400\n",
      "Enter the sales for day 3: 600\n",
      "Enter the sales for day 4: 300\n",
      "Enter the sales for day 5: 200\n",
      "Enter the sales for day 6: 100\n",
      "Enter the sales for day 7: 500\n",
      "Total sales for the week: $2300.00\n"
     ]
    }
   ],
   "source": [
    "# Initialize an empty list to store the sales amounts\n",
    "sales = []\n",
    "\n",
    "# Loop to get sales input for each day of the week\n",
    "for day in range(7):\n",
    "    # Prompt the user to enter the sales for the current day\n",
    "    sale = float(input(f\"Enter the sales for day {day + 1}: \"))\n",
    "    # Append the entered sales amount to the list\n",
    "    sales.append(sale)\n",
    "\n",
    "# Initialize a variable to store the total sales\n",
    "total_sales = 0\n",
    "\n",
    "# Loop to calculate the total sales\n",
    "for sale in sales:\n",
    "    total_sales += sale\n",
    "\n",
    "# Display the total sales for the week\n",
    "print(f\"Total sales for the week: ${total_sales:.2f}\")\n"
   ]
  },
  {
   "cell_type": "markdown",
   "id": "677c6258",
   "metadata": {},
   "source": [
    "I prompt the user to enter the store's sales for each day of the week, storing these values in a list called sales using a loop. Then, I initialize a variable total_sales to zero and iterate over the sales list, adding each day's sales to total_sales.Then the total sales for the week, showing the sum of all daily sales entered by the user."
   ]
  },
  {
   "cell_type": "markdown",
   "id": "c63cdbc9",
   "metadata": {},
   "source": [
    "# Programming Exercise Problem 14"
   ]
  },
  {
   "cell_type": "code",
   "execution_count": 6,
   "id": "22228bf4",
   "metadata": {},
   "outputs": [
    {
     "ename": "FileNotFoundError",
     "evalue": "[Errno 2] No such file or directory: '/mnt/data/expenses.txt'",
     "output_type": "error",
     "traceback": [
      "\u001b[1;31m---------------------------------------------------------------------------\u001b[0m",
      "\u001b[1;31mFileNotFoundError\u001b[0m                         Traceback (most recent call last)",
      "Cell \u001b[1;32mIn[6], line 12\u001b[0m\n\u001b[0;32m      3\u001b[0m \u001b[38;5;66;03m# Step 1: Create a text file with the expenses\u001b[39;00m\n\u001b[0;32m      4\u001b[0m expenses_data \u001b[38;5;241m=\u001b[39m \u001b[38;5;124m\"\"\"\u001b[39m\u001b[38;5;124mRent: 1200\u001b[39m\n\u001b[0;32m      5\u001b[0m \u001b[38;5;124mGas: 150\u001b[39m\n\u001b[0;32m      6\u001b[0m \u001b[38;5;124mFood: 300\u001b[39m\n\u001b[1;32m   (...)\u001b[0m\n\u001b[0;32m      9\u001b[0m \u001b[38;5;124mMisc: 200\u001b[39m\n\u001b[0;32m     10\u001b[0m \u001b[38;5;124m\"\"\"\u001b[39m\n\u001b[1;32m---> 12\u001b[0m \u001b[38;5;28;01mwith\u001b[39;00m \u001b[38;5;28mopen\u001b[39m(\u001b[38;5;124m'\u001b[39m\u001b[38;5;124m/mnt/data/expenses.txt\u001b[39m\u001b[38;5;124m'\u001b[39m, \u001b[38;5;124m'\u001b[39m\u001b[38;5;124mw\u001b[39m\u001b[38;5;124m'\u001b[39m) \u001b[38;5;28;01mas\u001b[39;00m file:\n\u001b[0;32m     13\u001b[0m     file\u001b[38;5;241m.\u001b[39mwrite(expenses_data)\n\u001b[0;32m     15\u001b[0m \u001b[38;5;66;03m# Step 2: Read data from the file\u001b[39;00m\n",
      "File \u001b[1;32m~\\anaconda3\\Lib\\site-packages\\IPython\\core\\interactiveshell.py:310\u001b[0m, in \u001b[0;36m_modified_open\u001b[1;34m(file, *args, **kwargs)\u001b[0m\n\u001b[0;32m    303\u001b[0m \u001b[38;5;28;01mif\u001b[39;00m file \u001b[38;5;129;01min\u001b[39;00m {\u001b[38;5;241m0\u001b[39m, \u001b[38;5;241m1\u001b[39m, \u001b[38;5;241m2\u001b[39m}:\n\u001b[0;32m    304\u001b[0m     \u001b[38;5;28;01mraise\u001b[39;00m \u001b[38;5;167;01mValueError\u001b[39;00m(\n\u001b[0;32m    305\u001b[0m         \u001b[38;5;124mf\u001b[39m\u001b[38;5;124m\"\u001b[39m\u001b[38;5;124mIPython won\u001b[39m\u001b[38;5;124m'\u001b[39m\u001b[38;5;124mt let you open fd=\u001b[39m\u001b[38;5;132;01m{\u001b[39;00mfile\u001b[38;5;132;01m}\u001b[39;00m\u001b[38;5;124m by default \u001b[39m\u001b[38;5;124m\"\u001b[39m\n\u001b[0;32m    306\u001b[0m         \u001b[38;5;124m\"\u001b[39m\u001b[38;5;124mas it is likely to crash IPython. If you know what you are doing, \u001b[39m\u001b[38;5;124m\"\u001b[39m\n\u001b[0;32m    307\u001b[0m         \u001b[38;5;124m\"\u001b[39m\u001b[38;5;124myou can use builtins\u001b[39m\u001b[38;5;124m'\u001b[39m\u001b[38;5;124m open.\u001b[39m\u001b[38;5;124m\"\u001b[39m\n\u001b[0;32m    308\u001b[0m     )\n\u001b[1;32m--> 310\u001b[0m \u001b[38;5;28;01mreturn\u001b[39;00m io_open(file, \u001b[38;5;241m*\u001b[39margs, \u001b[38;5;241m*\u001b[39m\u001b[38;5;241m*\u001b[39mkwargs)\n",
      "\u001b[1;31mFileNotFoundError\u001b[0m: [Errno 2] No such file or directory: '/mnt/data/expenses.txt'"
     ]
    }
   ],
   "source": [
    "import matplotlib.pyplot as plt\n",
    "\n",
    "# Step 1: Create a text file with the expenses\n",
    "expenses_data = \"\"\"Rent: 1200\n",
    "Gas: 150\n",
    "Food: 300\n",
    "Clothing: 100\n",
    "Car payment: 250\n",
    "Misc: 200\n",
    "\"\"\"\n",
    "\n",
    "with open('/mnt/data/expenses.txt', 'w') as file:\n",
    "    file.write(expenses_data)\n",
    "\n",
    "# Step 2: Read data from the file\n",
    "expenses = {}\n",
    "with open('/mnt/data/expenses.txt', 'r') as file:\n",
    "    for line in file:\n",
    "        category, amount = line.split(':')\n",
    "        expenses[category.strip()] = float(amount.strip())\n",
    "\n",
    "# Step 3: Plot the pie chart\n",
    "labels = expenses.keys()\n",
    "sizes = expenses.values()\n",
    "\n",
    "plt.figure(figsize=(7, 7))\n",
    "plt.pie(sizes, labels=labels, autopct='%1.1f%%', startangle=140)\n",
    "plt.axis('equal')  # Equal aspect ratio ensures the pie is drawn as a circle.\n",
    "\n",
    "plt.title(\"Expenses Distribution for Last Month\")\n",
    "plt.show()\n"
   ]
  },
  {
   "cell_type": "code",
   "execution_count": null,
   "id": "4e50d111",
   "metadata": {},
   "outputs": [],
   "source": []
  }
 ],
 "metadata": {
  "kernelspec": {
   "display_name": "Python 3 (ipykernel)",
   "language": "python",
   "name": "python3"
  },
  "language_info": {
   "codemirror_mode": {
    "name": "ipython",
    "version": 3
   },
   "file_extension": ".py",
   "mimetype": "text/x-python",
   "name": "python",
   "nbconvert_exporter": "python",
   "pygments_lexer": "ipython3",
   "version": "3.11.7"
  }
 },
 "nbformat": 4,
 "nbformat_minor": 5
}
