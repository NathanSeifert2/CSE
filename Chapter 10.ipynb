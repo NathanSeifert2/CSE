{
 "cells": [
  {
   "cell_type": "markdown",
   "id": "87576d52",
   "metadata": {},
   "source": [
    "# Programming Exercise Problem 3"
   ]
  },
  {
   "cell_type": "code",
   "execution_count": 2,
   "id": "5046bc6f",
   "metadata": {},
   "outputs": [
    {
     "name": "stdout",
     "output_type": "stream",
     "text": [
      "Person 1:\n",
      "Name: Alice Wonderland\n",
      "Address: 123 Fantasy Lane\n",
      "Age: 28\n",
      "Phone Number: 555-1234\n",
      "\n",
      "Person 2:\n",
      "Name: Bob Builder\n",
      "Address: 456 Construction Road\n",
      "Age: 34\n",
      "Phone Number: 555-5678\n",
      "\n",
      "Person 3:\n",
      "Name: Charlie Chocolate\n",
      "Address: 789 Sweet Street\n",
      "Age: 22\n",
      "Phone Number: 555-9101\n"
     ]
    }
   ],
   "source": [
    "class PersonalInformation:\n",
    "    def __init__(self, name, address, age, phone_number):\n",
    "        self.__name = name\n",
    "        self.__address = address\n",
    "        self.__age = age\n",
    "        self.__phone_number = phone_number\n",
    "\n",
    "    # Accessor methods (getters)\n",
    "    def get_name(self):\n",
    "        return self.__name\n",
    "\n",
    "    def get_address(self):\n",
    "        return self.__address\n",
    "\n",
    "    def get_age(self):\n",
    "        return self.__age\n",
    "\n",
    "    def get_phone_number(self):\n",
    "        return self.__phone_number\n",
    "\n",
    "    # Mutator methods (setters)\n",
    "    def set_name(self, name):\n",
    "        self.__name = name\n",
    "\n",
    "    def set_address(self, address):\n",
    "        self.__address = address\n",
    "\n",
    "    def set_age(self, age):\n",
    "        self.__age = age\n",
    "\n",
    "    def set_phone_number(self, phone_number):\n",
    "        self.__phone_number = phone_number\n",
    "\n",
    "# Creating three instances of the class with fictional information\n",
    "person1 = PersonalInformation(\"Alice Wonderland\", \"123 Fantasy Lane\", 28, \"555-1234\")\n",
    "person2 = PersonalInformation(\"Bob Builder\", \"456 Construction Road\", 34, \"555-5678\")\n",
    "person3 = PersonalInformation(\"Charlie Chocolate\", \"789 Sweet Street\", 22, \"555-9101\")\n",
    "\n",
    "# Printing out the details of each person\n",
    "print(\"Person 1:\")\n",
    "print(f\"Name: {person1.get_name()}\")\n",
    "print(f\"Address: {person1.get_address()}\")\n",
    "print(f\"Age: {person1.get_age()}\")\n",
    "print(f\"Phone Number: {person1.get_phone_number()}\")\n",
    "\n",
    "print(\"\\nPerson 2:\")\n",
    "print(f\"Name: {person2.get_name()}\")\n",
    "print(f\"Address: {person2.get_address()}\")\n",
    "print(f\"Age: {person2.get_age()}\")\n",
    "print(f\"Phone Number: {person2.get_phone_number()}\")\n",
    "\n",
    "print(\"\\nPerson 3:\")\n",
    "print(f\"Name: {person3.get_name()}\")\n",
    "print(f\"Address: {person3.get_address()}\")\n",
    "print(f\"Age: {person3.get_age()}\")\n",
    "print(f\"Phone Number: {person3.get_phone_number()}\")\n"
   ]
  },
  {
   "cell_type": "markdown",
   "id": "f65a7d1c",
   "metadata": {},
   "source": [
    "Made a PersonalInformation class to manage personal data, including name, address, age, and phone number. Using this class, I created accessor methods to retrieve the values of these attributes and mutator methods to update them. To test the class, I instantiated three objects with fictional information. By calling the accessor methods, I printed the details of each person to verify that the data was correctly stored and retrieved. This setup allows for easy manipulation and access to personal information within the program."
   ]
  },
  {
   "cell_type": "markdown",
   "id": "50acbade",
   "metadata": {},
   "source": [
    "# Programming Exercise Problem 2"
   ]
  },
  {
   "cell_type": "code",
   "execution_count": 13,
   "id": "1d674529",
   "metadata": {},
   "outputs": [
    {
     "name": "stdout",
     "output_type": "stream",
     "text": [
      "Accelerating:\n",
      "Current speed: 5\n",
      "Current speed: 10\n",
      "Current speed: 15\n",
      "Current speed: 20\n",
      "Current speed: 25\n",
      "\n",
      "Braking:\n",
      "Current speed: 20\n",
      "Current speed: 15\n",
      "Current speed: 10\n",
      "Current speed: 5\n",
      "Current speed: 0\n"
     ]
    }
   ],
   "source": [
    "class Car:\n",
    "    def __init__(self, year_model, make):\n",
    "        self.year_model = year_model\n",
    "        self.make = make\n",
    "        self.speed = 0\n",
    "        \n",
    "    def accelerate(self):\n",
    "        self.speed += 5\n",
    "        \n",
    "    def brake(self):\n",
    "        self.speed -= 5\n",
    "        \n",
    "    def get_speed(self):\n",
    "        return self.speed\n",
    "    \n",
    "def main():\n",
    "    my_car = Car(2024, \"Porsche\")\n",
    "    \n",
    "    print(\"Accelerating:\")\n",
    "    for _ in range(5):\n",
    "        my_car.accelerate()\n",
    "        print(f\"Current speed: {my_car.get_speed()}\")\n",
    "        \n",
    "    print(\"\\nBraking:\")\n",
    "    for _ in range(5):\n",
    "        my_car.brake()\n",
    "        print(f\"Current speed: {my_car.get_speed()}\")\n",
    "\n",
    "main()"
   ]
  },
  {
   "cell_type": "code",
   "execution_count": null,
   "id": "a77ee309",
   "metadata": {},
   "outputs": [],
   "source": []
  }
 ],
 "metadata": {
  "kernelspec": {
   "display_name": "Python 3 (ipykernel)",
   "language": "python",
   "name": "python3"
  },
  "language_info": {
   "codemirror_mode": {
    "name": "ipython",
    "version": 3
   },
   "file_extension": ".py",
   "mimetype": "text/x-python",
   "name": "python",
   "nbconvert_exporter": "python",
   "pygments_lexer": "ipython3",
   "version": "3.11.7"
  }
 },
 "nbformat": 4,
 "nbformat_minor": 5
}
