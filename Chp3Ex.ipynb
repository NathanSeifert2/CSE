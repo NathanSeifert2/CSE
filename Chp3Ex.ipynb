{
 "cells": [
  {
   "cell_type": "markdown",
   "id": "c5c588a5",
   "metadata": {},
   "source": [
    "  # Algorithm Workbench Problem 4"
   ]
  },
  {
   "cell_type": "code",
   "execution_count": 1,
   "id": "2e99f2d2",
   "metadata": {},
   "outputs": [
    {
     "ename": "SyntaxError",
     "evalue": "invalid syntax (3733700320.py, line 1)",
     "output_type": "error",
     "traceback": [
      "\u001b[1;36m  Cell \u001b[1;32mIn[1], line 1\u001b[1;36m\u001b[0m\n\u001b[1;33m    The problem asks us to rewrite this code because it has improper alignment and indentation.\u001b[0m\n\u001b[1;37m        ^\u001b[0m\n\u001b[1;31mSyntaxError\u001b[0m\u001b[1;31m:\u001b[0m invalid syntax\n"
     ]
    }
   ],
   "source": [
    "The problem asks us to rewrite this code because it has improper alignment and indentation.\n",
    "\n",
    "If score>=A_score:\n",
    "print('Your grade is A')\n",
    "else:\n",
    "If score>=B_score:\n",
    "print('Your grade is B')\n",
    "else:\n",
    "If score>=C_score:\n",
    "print('Your grade is C')\n",
    "else:\n",
    "If score>=D_score:\n",
    "print('Your grade is D')\n",
    "else:\n",
    "print('Your grade is F')"
   ]
  },
  {
   "cell_type": "code",
   "execution_count": null,
   "id": "5c28294a",
   "metadata": {},
   "outputs": [],
   "source": []
  }
 ],
 "metadata": {
  "kernelspec": {
   "display_name": "Python 3 (ipykernel)",
   "language": "python",
   "name": "python3"
  },
  "language_info": {
   "codemirror_mode": {
    "name": "ipython",
    "version": 3
   },
   "file_extension": ".py",
   "mimetype": "text/x-python",
   "name": "python",
   "nbconvert_exporter": "python",
   "pygments_lexer": "ipython3",
   "version": "3.11.7"
  }
 },
 "nbformat": 4,
 "nbformat_minor": 5
}
