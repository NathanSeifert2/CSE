{
 "cells": [
  {
   "cell_type": "markdown",
   "id": "c5c588a5",
   "metadata": {},
   "source": [
    "  # Algorithm Workbench Problem 4"
   ]
  },
  {
   "cell_type": "markdown",
   "id": "11ce3f7f",
   "metadata": {},
   "source": [
    "The problem asks us to rewrite this code because it has improper alignment and indentation."
   ]
  },
  {
   "cell_type": "code",
   "execution_count": 1,
   "id": "2e99f2d2",
   "metadata": {},
   "outputs": [
    {
     "ename": "SyntaxError",
     "evalue": "invalid syntax (3733700320.py, line 1)",
     "output_type": "error",
     "traceback": [
      "\u001b[1;36m  Cell \u001b[1;32mIn[1], line 1\u001b[1;36m\u001b[0m\n\u001b[1;33m    The problem asks us to rewrite this code because it has improper alignment and indentation.\u001b[0m\n\u001b[1;37m        ^\u001b[0m\n\u001b[1;31mSyntaxError\u001b[0m\u001b[1;31m:\u001b[0m invalid syntax\n"
     ]
    }
   ],
   "source": [
    "\n",
    "If score>=A_score:\n",
    "print('Your grade is A')\n",
    "else:\n",
    "If score>=B_score:\n",
    "print('Your grade is B')\n",
    "else:\n",
    "If score>=C_score:\n",
    "print('Your grade is C')\n",
    "else:\n",
    "If score>=D_score:\n",
    "print('Your grade is D')\n",
    "else:\n",
    "print('Your grade is F')"
   ]
  },
  {
   "cell_type": "code",
   "execution_count": 1,
   "id": "5c28294a",
   "metadata": {},
   "outputs": [
    {
     "ename": "SyntaxError",
     "evalue": "invalid syntax (3675963241.py, line 1)",
     "output_type": "error",
     "traceback": [
      "\u001b[1;36m  Cell \u001b[1;32mIn[1], line 1\u001b[1;36m\u001b[0m\n\u001b[1;33m    If score >= A_score:\u001b[0m\n\u001b[1;37m       ^\u001b[0m\n\u001b[1;31mSyntaxError\u001b[0m\u001b[1;31m:\u001b[0m invalid syntax\n"
     ]
    }
   ],
   "source": [
    "If score >= A_score:\n",
    "    print('Your grade is A')\n",
    "else:\n",
    "    If score >= B_score:\n",
    "        print('Your grade is B')\n",
    "    else:\n",
    "        If score >= C_score:\n",
    "            print('Your grade is C')\n",
    "        else:\n",
    "            If score >= D_score:\n",
    "                print('Your grade is D')\n",
    "            else:\n",
    "                print('Your grade is F')\n",
    "            "
   ]
  },
  {
   "cell_type": "markdown",
   "id": "fad25422",
   "metadata": {},
   "source": [
    "I changed the print statements by indenting them so they could be correclty aligned with their if statements. I also changed the else statements by properly aligning them with the corresponding if statement aswell. This is because all statements within a block have to be indented the same amount. In the first example, there was no indentation of the print statement or else statements. the error whern running the code asks me to define score but the question does not."
   ]
  },
  {
   "cell_type": "markdown",
   "id": "e515e0b8",
   "metadata": {},
   "source": [
    "# Algorithm Workbench Problem 5"
   ]
  },
  {
   "cell_type": "markdown",
   "id": "92ee1bc3",
   "metadata": {},
   "source": [
    "The question asks us to \"Write nested decision structures that perform the following: \n",
    "If amount1is greater than 10 and Amount2 is less than 100, display the greater of amount1 and amount2.\""
   ]
  },
  {
   "cell_type": "code",
   "execution_count": 3,
   "id": "cdb47313",
   "metadata": {},
   "outputs": [
    {
     "name": "stdout",
     "output_type": "stream",
     "text": [
      "The greater amount is: 83\n"
     ]
    }
   ],
   "source": [
    "# Sample values for Amount1 and Amount2\n",
    "Amount1 = 29\n",
    "Amount2 = 83\n",
    "\n",
    "# Nested decision structure\n",
    "if Amount1 > 10:\n",
    "    if Amount2 < 100:\n",
    "        # Both conditions are met, so we display the greater of the two amounts\n",
    "        if Amount1 > Amount2:\n",
    "            print(\"The greater amount is:\", Amount1)\n",
    "        else:\n",
    "            print(\"The greater amount is:\", Amount2)\n",
    "    else:\n",
    "        print(\"Amount2 is not less than 100.\")\n",
    "else:\n",
    "    print(\"Amount1 is not greater than 10.\")\n"
   ]
  },
  {
   "cell_type": "markdown",
   "id": "97ef5eac",
   "metadata": {},
   "source": [
    "I started with the if statements of amount1 > 10 and did the same for amounnt2 < 100. This checks that if the number is associated with one or the other it will use that specific block of code. Then compare the 2 to get the print option of if it is not greater than 10 or not less than 100."
   ]
  },
  {
   "cell_type": "markdown",
   "id": "786e8380",
   "metadata": {},
   "source": [
    "# Programming Exercise Problem 1"
   ]
  },
  {
   "cell_type": "markdown",
   "id": "05cdc172",
   "metadata": {},
   "source": [
    "The book asks us to \"Write a program that asks the user for a number in the range of 1 through 7. The program should display the corresponding day of the week, where 1 = Monday, 2 = Tuesday, 3 = Wednesday, 4 = Thursday, 5 = Friday, 6 = Saturday, and 7 = Sunday. The program should display an error message if the user enters a number that is outside the range of 1 through 7.\""
   ]
  },
  {
   "cell_type": "code",
   "execution_count": 4,
   "id": "de242a7c",
   "metadata": {},
   "outputs": [
    {
     "name": "stdout",
     "output_type": "stream",
     "text": [
      "Enter a number between 1 and 7: 4\n",
      "The corresponding day is Thursday\n"
     ]
    }
   ],
   "source": [
    "def main():\n",
    "    # Get input from user\n",
    "    num = int(input(\"Enter a number between 1 and 7: \"))\n",
    "\n",
    "    # Determine corresponding day of the week\n",
    "    if num == 1:\n",
    "        day = \"Monday\"\n",
    "    elif num == 2:\n",
    "        day = \"Tuesday\"\n",
    "    elif num == 3:\n",
    "        day = \"Wednesday\"\n",
    "    elif num == 4:\n",
    "        day = \"Thursday\"\n",
    "    elif num == 5:\n",
    "        day = \"Friday\"\n",
    "    elif num == 6:\n",
    "        day = \"Saturday\"\n",
    "    elif num == 7:\n",
    "        day = \"Sunday\"\n",
    "    else:\n",
    "        print(\"Error: Input out of range\")\n",
    "        return\n",
    "\n",
    "    # Display the corresponding day\n",
    "    print(\"The corresponding day is\", day)\n",
    "\n",
    "if __name__ == \"__main__\":\n",
    "    main()\n"
   ]
  },
  {
   "cell_type": "markdown",
   "id": "7c2291a1",
   "metadata": {},
   "source": [
    "Used the main function to get the whole project under one statement. I then used input to promot a number between 1-7 and which\n",
    "then gets changed into a number using int. The the if and else statements to match it to the day of the week based on whatever\n",
    "is chosen. Then to end it, print the corresponding day. "
   ]
  },
  {
   "cell_type": "markdown",
   "id": "84cf4fb6",
   "metadata": {},
   "source": [
    "# Programming Exercise Problem 5"
   ]
  },
  {
   "cell_type": "markdown",
   "id": "b3dc234b",
   "metadata": {},
   "source": [
    "It asks us \"Scientists measure an object’s mass in kilograms and its weight in newtons. If you know the amount of mass of an object in kilograms, you can calculate its weight in newtons with the following formula: weight = mass x 9.8\n",
    "Write a program that asks the user to enter an object’s mass, then calculates its weight. If the object weighs more than 500 newtons, display a message indicating that it is too heavy. If the object weighs less than 100 newtons, display a message indicating that it is too light.\""
   ]
  },
  {
   "cell_type": "code",
   "execution_count": 6,
   "id": "e50a9337",
   "metadata": {},
   "outputs": [
    {
     "name": "stdout",
     "output_type": "stream",
     "text": [
      "Enter the object's mass in kilograms: 70\n",
      "The object's weight is 686.0 newtons.\n",
      "Warning: The object is too heavy.\n"
     ]
    }
   ],
   "source": [
    "def main():\n",
    "    # Get input from user for object's mass\n",
    "    mass = float(input(\"Enter the object's mass in kilograms: \"))\n",
    "\n",
    "    # Calculate the weight using the formula weight = mass x 9.8\n",
    "    weight = mass * 9.8\n",
    "\n",
    "    # Display the weight\n",
    "    print(\"The object's weight is\", weight, \"newtons.\")\n",
    "\n",
    "    # Check if the weight is too heavy or too light\n",
    "    if weight > 500:\n",
    "        print(\"Warning: The object is too heavy.\")\n",
    "    elif weight < 100:\n",
    "        print(\"Warning: The object is too light.\")\n",
    "\n",
    "if __name__ == \"__main__\":\n",
    "    main()\n",
    "\n"
   ]
  },
  {
   "cell_type": "markdown",
   "id": "b92b9307",
   "metadata": {},
   "source": [
    "First I set it up to get an input of a specific mass of an object in kg. Then using the formula it calculates the result and displays it. Finally, I used the elif and if to check if the weight exceeded 500 newtons or was less than 100 newtons. Depending on that answer it would print using the print statement a specific sentence of too heavy or too light."
   ]
  },
  {
   "cell_type": "markdown",
   "id": "ebf2ae6b",
   "metadata": {},
   "source": [
    "# Programming Exercise Problem 15"
   ]
  },
  {
   "cell_type": "code",
   "execution_count": 8,
   "id": "51aebce0",
   "metadata": {},
   "outputs": [
    {
     "name": "stdout",
     "output_type": "stream",
     "text": [
      "Enter a year: 2024\n",
      "In 2024, February has 29 days.\n"
     ]
    }
   ],
   "source": [
    "def main():\n",
    "    # Get input from user for the year\n",
    "    year = int(input(\"Enter a year: \"))\n",
    "\n",
    "    # Determine if it's a leap year based on the criteria\n",
    "    if (year % 100 == 0 and year % 400 == 0) or (year % 100 != 0 and year % 4 == 0):\n",
    "        days_in_february = 29\n",
    "    else:\n",
    "        days_in_february = 28\n",
    "\n",
    "    # Display the result\n",
    "    print(f\"In {year}, February has {days_in_february} days.\")\n",
    "\n",
    "if __name__ == \"__main__\":\n",
    "    main()\n"
   ]
  },
  {
   "cell_type": "markdown",
   "id": "1b111625",
   "metadata": {},
   "source": [
    "Using input, I ask for a year which is converted to a number. The leap year check checks if the year meets the conditions for being a leap year by following the criteria in the if statement. The days calculator then decides if it is a leap year or not, it will give it 29 or 28 days. Then using print is displays the correct number of days for that year."
   ]
  },
  {
   "cell_type": "markdown",
   "id": "1adfd397",
   "metadata": {},
   "source": [
    "# Programming Exercise Problem 18"
   ]
  },
  {
   "cell_type": "markdown",
   "id": "1e72461e",
   "metadata": {},
   "source": [
    "It asks us to\n",
    "Write a program that asks whether any members of your party are vegetarian, vegan, or gluten-free, to which then displays only the restaurants to which you may take the group"
   ]
  },
  {
   "cell_type": "code",
   "execution_count": 9,
   "id": "d02d9e22",
   "metadata": {},
   "outputs": [
    {
     "name": "stdout",
     "output_type": "stream",
     "text": [
      "Is anyone in your party a vegetarian?\n",
      "No\n",
      "Is anyone in your party a vegan?\n",
      "No\n",
      "Is anyone in your party gluten-free?\n",
      "Yes\n",
      "Here are your restaurant choices:\n",
      "\tMain Street Pizza Company\n",
      "\tCorner Cafe\n",
      "\tThe Chef's Kitchen\n"
     ]
    }
   ],
   "source": [
    "# Restaurant data\n",
    "restaurants = {\n",
    "    \"Joe's Gourmet Burgers\": {\"Vegetarian\": False, \"Vegan\": False, \"Gluten Free\": False},\n",
    "    \"Main Street Pizza Company\": {\"Vegetarian\": True, \"Vegan\": False, \"Gluten Free\": True},\n",
    "    \"Corner Cafe\": {\"Vegetarian\": True, \"Vegan\": True, \"Gluten Free\": True},\n",
    "    \"Mama's Fine Italian\": {\"Vegetarian\": True, \"Vegan\": False, \"Gluten Free\": False},\n",
    "    \"The Chef's Kitchen\": {\"Vegetarian\": True, \"Vegan\": True, \"Gluten Free\": True}\n",
    "}\n",
    "\n",
    "# Function to filter restaurants based on dietary restrictions\n",
    "def filter_restaurants(vegetarian, vegan, gluten_free):\n",
    "    filtered_restaurants = []\n",
    "    for restaurant, options in restaurants.items():\n",
    "        if (not vegetarian or options[\"Vegetarian\"]) and (not vegan or options[\"Vegan\"]) and (not gluten_free or options[\"Gluten Free\"]):\n",
    "            filtered_restaurants.append(restaurant)\n",
    "    return filtered_restaurants\n",
    "\n",
    "# Main program\n",
    "print(\"Is anyone in your party a vegetarian?\")\n",
    "vegetarian = input().lower() == \"yes\"\n",
    "\n",
    "print(\"Is anyone in your party a vegan?\")\n",
    "vegan = input().lower() == \"yes\"\n",
    "\n",
    "print(\"Is anyone in your party gluten-free?\")\n",
    "gluten_free = input().lower() == \"yes\"\n",
    "\n",
    "print(\"Here are your restaurant choices:\")\n",
    "valid_restaurants = filter_restaurants(vegetarian, vegan, gluten_free)\n",
    "for restaurant in valid_restaurants:\n",
    "    print(\"\\t\" + restaurant)\n"
   ]
  },
  {
   "cell_type": "markdown",
   "id": "38d15d53",
   "metadata": {},
   "source": [
    "I started by defining the restaurants where the name serves as the key and its dietary options, using true and false for each specfic dietary restriction. Then using the filtered restaurants to narrow down the restaurant choices based on what is given as an input using if and else statements as used before. Using print, It will display the filtered list of restaurant options, making sure it satisfies the diet."
   ]
  }
 ],
 "metadata": {
  "kernelspec": {
   "display_name": "Python 3 (ipykernel)",
   "language": "python",
   "name": "python3"
  },
  "language_info": {
   "codemirror_mode": {
    "name": "ipython",
    "version": 3
   },
   "file_extension": ".py",
   "mimetype": "text/x-python",
   "name": "python",
   "nbconvert_exporter": "python",
   "pygments_lexer": "ipython3",
   "version": "3.11.7"
  }
 },
 "nbformat": 4,
 "nbformat_minor": 5
}
