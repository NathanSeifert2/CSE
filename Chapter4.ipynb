{
 "cells": [
  {
   "cell_type": "markdown",
   "id": "568f3818",
   "metadata": {},
   "source": [
    "# Algorithm Workbench Problem 4"
   ]
  },
  {
   "cell_type": "code",
   "execution_count": null,
   "id": "dc9caa88",
   "metadata": {},
   "outputs": [
    {
     "name": "stdout",
     "output_type": "stream",
     "text": [
      "Enter a number: 5\n",
      "The result is: 50.0\n",
      "Enter a number: 7\n",
      "The result is: 70.0\n",
      "Enter a number: 1\n",
      "The result is: 10.0\n",
      "Enter a number: 2\n",
      "The result is: 20.0\n",
      "Enter a number: 3\n",
      "The result is: 30.0\n"
     ]
    }
   ],
   "source": [
    "# Initialize the variable `result` to ensure the loop starts\n",
    "result = 0\n",
    "\n",
    "# Loop as long as `result` is less than 100\n",
    "while result < 100:\n",
    "    # Prompt the user to enter a number\n",
    "    number = float(input(\"Enter a number: \"))\n",
    "    \n",
    "    # Multiply the number by 10 and assign it to `result`\n",
    "    result = number * 10\n",
    "    \n",
    "    # Print the result\n",
    "    print(f\"The result is: {result}\")\n",
    "\n",
    "print(\"The loop has ended because the result is 100 or more.\")\n"
   ]
  },
  {
   "cell_type": "markdown",
   "id": "6047f4cf",
   "metadata": {},
   "source": [
    "This code asks to enter a number using float and it mutliplies it by 10. It will not go any higher than 100. It keeps looping until 100 or more."
   ]
  },
  {
   "cell_type": "markdown",
   "id": "16218e34",
   "metadata": {},
   "source": [
    "# Algorithm Workbench Problem 2"
   ]
  },
  {
   "cell_type": "code",
   "execution_count": null,
   "id": "1ea77142",
   "metadata": {},
   "outputs": [],
   "source": [
    "# while True:\n",
    "    # Prompt the user to enter the first number\n",
    "    number1 = float(input(\"Enter the first number: \"))\n",
    "    \n",
    "    # Prompt the user to enter the second number\n",
    "    number2 = float(input(\"Enter the second number: \"))\n",
    "    \n",
    "    # Calculate the sum of the two numbers\n",
    "    total = number1 + number2\n",
    "    \n",
    "    # Display the sum\n",
    "    print(f\"The sum is: {total}\")\n",
    "    \n",
    "    # Ask the user if they want to perform the operation again\n",
    "    again = input(\"Do you want to perform the operation again? (yes/no): \").strip().lower()\n",
    "    \n",
    "    # If the user does not want to continue, break the loop\n",
    "    if again != \"yes\":\n",
    "        break\n",
    "\n",
    "print(\"The loop has ended.\")\n"
   ]
  },
  {
   "cell_type": "markdown",
   "id": "5681c72a",
   "metadata": {},
   "source": [
    "The while true is used to create an infinite loop. Then when entering 2 numbers the numbers are added and sum is displayed with the total. Then break is used and print to show the statement."
   ]
  },
  {
   "cell_type": "markdown",
   "id": "3f42966d",
   "metadata": {},
   "source": [
    "# Programming Exercise problem 1"
   ]
  },
  {
   "cell_type": "code",
   "execution_count": null,
   "id": "17e184b8",
   "metadata": {},
   "outputs": [],
   "source": [
    "# Initialize the total number of bugs collected to 0\n",
    "total_bugs = 0\n",
    "\n",
    "# Loop to collect bugs for 5 days\n",
    "for day in range(1, 6):\n",
    "    # Ask the user for the number of bugs collected on this day\n",
    "    bugs_collected = int(input(f\"Enter the number of bugs collected on day {day}: \"))\n",
    "    \n",
    "    # Add the number of bugs collected to the total\n",
    "    total_bugs += bugs_collected\n",
    "\n",
    "# Display the total number of bugs collected\n",
    "print(f\"The total number of bugs collected over 5 days is: {total_bugs}\")\n"
   ]
  },
  {
   "cell_type": "markdown",
   "id": "4aa87b26",
   "metadata": {},
   "source": [
    "We used total bugs as the variable. Looped it for 5 days using loop from 1-5. Then used input to promt the number of bugs for each day using int. Then updated the total bugs and print."
   ]
  },
  {
   "cell_type": "markdown",
   "id": "461ce3b5",
   "metadata": {},
   "source": [
    "# Programming Exercise Problem 4"
   ]
  },
  {
   "cell_type": "code",
   "execution_count": null,
   "id": "1c1b75d0",
   "metadata": {},
   "outputs": [],
   "source": []
  }
 ],
 "metadata": {
  "kernelspec": {
   "display_name": "Python 3 (ipykernel)",
   "language": "python",
   "name": "python3"
  },
  "language_info": {
   "codemirror_mode": {
    "name": "ipython",
    "version": 3
   },
   "file_extension": ".py",
   "mimetype": "text/x-python",
   "name": "python",
   "nbconvert_exporter": "python",
   "pygments_lexer": "ipython3",
   "version": "3.11.7"
  }
 },
 "nbformat": 4,
 "nbformat_minor": 5
}
