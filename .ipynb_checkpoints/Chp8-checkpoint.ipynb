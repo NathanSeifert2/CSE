{
 "cells": [
  {
   "cell_type": "markdown",
   "id": "61133f42",
   "metadata": {},
   "source": [
    "# Algorithm Workbench 7"
   ]
  },
  {
   "cell_type": "code",
   "execution_count": 2,
   "id": "6f02aade",
   "metadata": {},
   "outputs": [
    {
     "name": "stdout",
     "output_type": "stream",
     "text": [
      "gnirts elpmaxe\n"
     ]
    }
   ],
   "source": [
    "def display_backwards(input_string):\n",
    "    reversed_string = input_string[::-1]\n",
    "    print(reversed_string)\n",
    "\n",
    "# Example usage\n",
    "display_backwards(\"example string\")\n"
   ]
  },
  {
   "cell_type": "markdown",
   "id": "cf7918c7",
   "metadata": {},
   "source": [
    "\"I created a function that takes a string as an argument and displays it backwards. Inside the function, I used slicing with a step of -1 to reverse the string. Finally, I printed the reversed string to show the result.\""
   ]
  },
  {
   "cell_type": "markdown",
   "id": "c09f445f",
   "metadata": {},
   "source": [
    "# Algorithm Workbench 10"
   ]
  },
  {
   "cell_type": "code",
   "execution_count": 3,
   "id": "f229d6ff",
   "metadata": {},
   "outputs": [
    {
     "name": "stdout",
     "output_type": "stream",
     "text": [
      "['cookies', 'milk', 'fudge', 'cake', 'ice cream']\n"
     ]
    }
   ],
   "source": [
    "mystring = 'cookies>milk>fudge>cake>ice cream'\n",
    "result = mystring.split('>')\n",
    "print(result)\n"
   ]
  },
  {
   "cell_type": "markdown",
   "id": "9e2c0303",
   "metadata": {},
   "source": [
    "\"I wrote a statement to split the string 'cookies>milk>fudge>cake>ice cream' into a list of words. I used the split method with the delimiter '>' to break the string at each '>'. This way, I iterated through the string and created a list containing each word as a separate element.\""
   ]
  },
  {
   "cell_type": "code",
   "execution_count": null,
   "id": "9027893f",
   "metadata": {},
   "outputs": [],
   "source": []
  }
 ],
 "metadata": {
  "kernelspec": {
   "display_name": "Python 3 (ipykernel)",
   "language": "python",
   "name": "python3"
  },
  "language_info": {
   "codemirror_mode": {
    "name": "ipython",
    "version": 3
   },
   "file_extension": ".py",
   "mimetype": "text/x-python",
   "name": "python",
   "nbconvert_exporter": "python",
   "pygments_lexer": "ipython3",
   "version": "3.11.7"
  }
 },
 "nbformat": 4,
 "nbformat_minor": 5
}
