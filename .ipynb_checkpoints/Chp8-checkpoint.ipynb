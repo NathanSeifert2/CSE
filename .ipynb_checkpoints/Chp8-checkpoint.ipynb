{
 "cells": [
  {
   "cell_type": "markdown",
   "id": "56e35db3",
   "metadata": {},
   "source": [
    "# Algorithm Workbench 7"
   ]
  },
  {
   "cell_type": "code",
   "execution_count": 2,
   "id": "c37b7251",
   "metadata": {},
   "outputs": [
    {
     "name": "stdout",
     "output_type": "stream",
     "text": [
      "gnirts elpmaxe\n"
     ]
    }
   ],
   "source": [
    "def display_backwards(input_string):\n",
    "    reversed_string = input_string[::-1]\n",
    "    print(reversed_string)\n",
    "\n",
    "# Example usage\n",
    "display_backwards(\"example string\")\n"
   ]
  },
  {
   "cell_type": "markdown",
   "id": "b607d70f",
   "metadata": {},
   "source": [
    "I created a function that takes a string as an argument and displays it backwards. Inside the function, I used slicing with a step of -1 to reverse the string. Finally, I printed the reversed string to show the result."
   ]
  },
  {
   "cell_type": "markdown",
   "id": "cca0063d",
   "metadata": {},
   "source": [
    "# Algorithm Workbench 10"
   ]
  },
  {
   "cell_type": "code",
   "execution_count": 3,
   "id": "c1186c13",
   "metadata": {},
   "outputs": [
    {
     "name": "stdout",
     "output_type": "stream",
     "text": [
      "['cookies', 'milk', 'fudge', 'cake', 'ice cream']\n"
     ]
    }
   ],
   "source": [
    "mystring = 'cookies>milk>fudge>cake>ice cream'\n",
    "result = mystring.split('>')\n",
    "print(result)\n"
   ]
  },
  {
   "cell_type": "markdown",
   "id": "909b630d",
   "metadata": {},
   "source": [
    "Wrote a statement to split the string 'cookies>milk>fudge>cake>ice cream' into a list of words. I used the split method with the delimiter '>' to break the string at each '>'. This way, I iterated through the string and created a list containing each word as a separate element."
   ]
  },
  {
   "cell_type": "markdown",
   "id": "8d4244ad",
   "metadata": {},
   "source": [
    "# Programming Exercise 1"
   ]
  },
  {
   "cell_type": "code",
   "execution_count": 4,
   "id": "afaf561f",
   "metadata": {},
   "outputs": [
    {
     "name": "stdout",
     "output_type": "stream",
     "text": [
      "Enter your first, middle, and last names: Nathan Michael Seifert\n",
      "Your initials are: N. M. S.\n"
     ]
    }
   ],
   "source": [
    "def get_initials(name):\n",
    "    # Split the name into parts\n",
    "    parts = name.split()\n",
    "    \n",
    "    # Extract the first letter of each part and convert to uppercase\n",
    "    initials = [part[0].upper() for part in parts]\n",
    "    \n",
    "    # Join the initials with dots\n",
    "    initials_str = '. '.join(initials) + '.'\n",
    "    \n",
    "    return initials_str\n",
    "\n",
    "# Get the user's full name\n",
    "full_name = input(\"Enter your first, middle, and last names: \")\n",
    "\n",
    "# Display the initials\n",
    "print(\"Your initials are:\", get_initials(full_name))\n"
   ]
  },
  {
   "cell_type": "markdown",
   "id": "4cf4af8e",
   "metadata": {},
   "source": [
    "Started coding program to get a person's full name and display their initials. First, I split the name into individual parts using the split method to separate the first, middle, and last names. Then, I iterated through each part, extracted the first letter, and converted it to uppercase. Finally, I joined the initials with dots and displayed the formatted result to the user."
   ]
  },
  {
   "cell_type": "markdown",
   "id": "b130ea17",
   "metadata": {},
   "source": [
    "# Programming Exercise 3"
   ]
  },
  {
   "cell_type": "code",
   "execution_count": 5,
   "id": "0ffffc7f",
   "metadata": {},
   "outputs": [
    {
     "name": "stdout",
     "output_type": "stream",
     "text": [
      "Enter a date in the form mm/dd/yyyy: 10/06/2005\n",
      "October 6, 2005\n"
     ]
    }
   ],
   "source": [
    "# Dictionary to map month numbers to month names\n",
    "months = {\n",
    "    '01': 'January', '02': 'February', '03': 'March', \n",
    "    '04': 'April', '05': 'May', '06': 'June', \n",
    "    '07': 'July', '08': 'August', '09': 'September', \n",
    "    '10': 'October', '11': 'November', '12': 'December'\n",
    "}\n",
    "\n",
    "# Function to convert date format\n",
    "def format_date(date_string):\n",
    "    # Split the input date string\n",
    "    parts = date_string.split('/')\n",
    "    \n",
    "    # Extract month, day, and year\n",
    "    month = parts[0]\n",
    "    day = parts[1]\n",
    "    year = parts[2]\n",
    "    \n",
    "    # Map the month number to month name\n",
    "    month_name = months[month]\n",
    "    \n",
    "    # Return the formatted date string\n",
    "    return f\"{month_name} {int(day)}, {year}\"\n",
    "\n",
    "# Get the date input from the user\n",
    "user_input = input(\"Enter a date in the form mm/dd/yyyy: \")\n",
    "\n",
    "# Print the formatted date\n",
    "print(format_date(user_input))\n"
   ]
  },
  {
   "cell_type": "markdown",
   "id": "b3be7c2a",
   "metadata": {},
   "source": [
    "The Python program utilizes iteration to convert a date from mm/dd/yyyy format to \"Month day, year\". It begins by splitting the user-input date string into month, day, and year components using the split('/') method. It then iterates through a list month_names containing the names of all months, accessing the correct month name using the month number minus one for indexing. Finally, the program formats and prints the date in the desired \"Month day, year\" format using Python's f-string capability."
   ]
  },
  {
   "cell_type": "code",
   "execution_count": null,
   "id": "eb6d6b2b",
   "metadata": {},
   "outputs": [],
   "source": []
  }
 ],
 "metadata": {
  "kernelspec": {
   "display_name": "Python 3 (ipykernel)",
   "language": "python",
   "name": "python3"
  },
  "language_info": {
   "codemirror_mode": {
    "name": "ipython",
    "version": 3
   },
   "file_extension": ".py",
   "mimetype": "text/x-python",
   "name": "python",
   "nbconvert_exporter": "python",
   "pygments_lexer": "ipython3",
   "version": "3.11.7"
  }
 },
 "nbformat": 4,
 "nbformat_minor": 5
}
