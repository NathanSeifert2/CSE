{
 "cells": [
  {
   "cell_type": "markdown",
   "id": "5c70c13c",
   "metadata": {},
   "source": [
    "# Algorithm Workbench 7"
   ]
  },
  {
   "cell_type": "code",
   "execution_count": 2,
   "id": "457f9f08",
   "metadata": {},
   "outputs": [
    {
     "name": "stdout",
     "output_type": "stream",
     "text": [
      "gnirts elpmaxe\n"
     ]
    }
   ],
   "source": [
    "def display_backwards(input_string):\n",
    "    reversed_string = input_string[::-1]\n",
    "    print(reversed_string)\n",
    "\n",
    "# Example usage\n",
    "display_backwards(\"example string\")\n"
   ]
  },
  {
   "cell_type": "markdown",
   "id": "51f2a916",
   "metadata": {},
   "source": [
    "I created a function that takes a string as an argument and displays it backwards. Inside the function, I used slicing with a step of -1 to reverse the string. Finally, I printed the reversed string to show the result."
   ]
  },
  {
   "cell_type": "markdown",
   "id": "e8db5f5f",
   "metadata": {},
   "source": [
    "# Algorithm Workbench 10"
   ]
  },
  {
   "cell_type": "code",
   "execution_count": 3,
   "id": "b2c0c59e",
   "metadata": {},
   "outputs": [
    {
     "name": "stdout",
     "output_type": "stream",
     "text": [
      "['cookies', 'milk', 'fudge', 'cake', 'ice cream']\n"
     ]
    }
   ],
   "source": [
    "mystring = 'cookies>milk>fudge>cake>ice cream'\n",
    "result = mystring.split('>')\n",
    "print(result)\n"
   ]
  },
  {
   "cell_type": "markdown",
   "id": "a2128bb7",
   "metadata": {},
   "source": [
    "Wrote a statement to split the string 'cookies>milk>fudge>cake>ice cream' into a list of words. I used the split method with the delimiter '>' to break the string at each '>'. This way, I iterated through the string and created a list containing each word as a separate element."
   ]
  },
  {
   "cell_type": "markdown",
   "id": "b63bfa18",
   "metadata": {},
   "source": [
    "# Programming Exercise 1"
   ]
  },
  {
   "cell_type": "code",
   "execution_count": 4,
   "id": "ab5c1dca",
   "metadata": {},
   "outputs": [
    {
     "name": "stdout",
     "output_type": "stream",
     "text": [
      "Enter your first, middle, and last names: Nathan Michael Seifert\n",
      "Your initials are: N. M. S.\n"
     ]
    }
   ],
   "source": [
    "def get_initials(name):\n",
    "    # Split the name into parts\n",
    "    parts = name.split()\n",
    "    \n",
    "    # Extract the first letter of each part and convert to uppercase\n",
    "    initials = [part[0].upper() for part in parts]\n",
    "    \n",
    "    # Join the initials with dots\n",
    "    initials_str = '. '.join(initials) + '.'\n",
    "    \n",
    "    return initials_str\n",
    "\n",
    "# Get the user's full name\n",
    "full_name = input(\"Enter your first, middle, and last names: \")\n",
    "\n",
    "# Display the initials\n",
    "print(\"Your initials are:\", get_initials(full_name))\n"
   ]
  },
  {
   "cell_type": "markdown",
   "id": "47bd0ee1",
   "metadata": {},
   "source": [
    "Started coding program to get a person's full name and display their initials. First, I split the name into individual parts using the split method to separate the first, middle, and last names. Then, I iterated through each part, extracted the first letter, and converted it to uppercase. Finally, I joined the initials with dots and displayed the formatted result to the user."
   ]
  },
  {
   "cell_type": "markdown",
   "id": "e75439e3",
   "metadata": {},
   "source": [
    "# Programming Exercise 3"
   ]
  },
  {
   "cell_type": "code",
   "execution_count": 5,
   "id": "1caf01e7",
   "metadata": {},
   "outputs": [
    {
     "name": "stdout",
     "output_type": "stream",
     "text": [
      "Enter a date in the form mm/dd/yyyy: 10/06/2005\n",
      "October 6, 2005\n"
     ]
    }
   ],
   "source": [
    "# Dictionary to map month numbers to month names\n",
    "months = {\n",
    "    '01': 'January', '02': 'February', '03': 'March', \n",
    "    '04': 'April', '05': 'May', '06': 'June', \n",
    "    '07': 'July', '08': 'August', '09': 'September', \n",
    "    '10': 'October', '11': 'November', '12': 'December'\n",
    "}\n",
    "\n",
    "# Function to convert date format\n",
    "def format_date(date_string):\n",
    "    # Split the input date string\n",
    "    parts = date_string.split('/')\n",
    "    \n",
    "    # Extract month, day, and year\n",
    "    month = parts[0]\n",
    "    day = parts[1]\n",
    "    year = parts[2]\n",
    "    \n",
    "    # Map the month number to month name\n",
    "    month_name = months[month]\n",
    "    \n",
    "    # Return the formatted date string\n",
    "    return f\"{month_name} {int(day)}, {year}\"\n",
    "\n",
    "# Get the date input from the user\n",
    "user_input = input(\"Enter a date in the form mm/dd/yyyy: \")\n",
    "\n",
    "# Print the formatted date\n",
    "print(format_date(user_input))\n"
   ]
  },
  {
   "cell_type": "markdown",
   "id": "89c28ff8",
   "metadata": {},
   "source": [
    "The Python program utilizes iteration to convert a date from mm/dd/yyyy format to \"Month day, year\". It begins by splitting the user-input date string into month, day, and year components using the split('/') method. It then iterates through a list month_names containing the names of all months, accessing the correct month name using the month number minus one for indexing. Finally, the program formats and prints the date in the desired \"Month day, year\" format using Python's f-string capability."
   ]
  },
  {
   "cell_type": "markdown",
   "id": "aec83b5e",
   "metadata": {},
   "source": [
    "# Programming Exercise 10"
   ]
  },
  {
   "cell_type": "code",
   "execution_count": 7,
   "id": "8f191893",
   "metadata": {},
   "outputs": [
    {
     "name": "stdout",
     "output_type": "stream",
     "text": [
      "Enter a string: \"Example of a string\" \"Random sentences hello\"\n",
      "The most frequent character is ' ' appearing 6 times.\n"
     ]
    }
   ],
   "source": [
    "def main():\n",
    "    # Input string from user\n",
    "    input_string = input(\"Enter a string: \")\n",
    "    \n",
    "    # Create a dictionary to store character frequencies\n",
    "    char_count = {}\n",
    "    \n",
    "    # Count frequency of each character in the string\n",
    "    for char in input_string:\n",
    "        if char in char_count:\n",
    "            char_count[char] += 1\n",
    "        else:\n",
    "            char_count[char] = 1\n",
    "    \n",
    "    # Find the character with the maximum frequency\n",
    "    max_char = ''\n",
    "    max_count = 0\n",
    "    \n",
    "    for char, count in char_count.items():\n",
    "        if count > max_count:\n",
    "            max_count = count\n",
    "            max_char = char\n",
    "    \n",
    "    # Print the character with the maximum frequency\n",
    "    print(f\"The most frequent character is '{max_char}' appearing {max_count} times.\")\n",
    "\n",
    "if __name__ == \"__main__\":\n",
    "    main()\n"
   ]
  },
  {
   "cell_type": "markdown",
   "id": "e04aacab",
   "metadata": {},
   "source": [
    "I wrote a Python program to find the most frequent character in a user-entered string. First, I created a dictionary to store character frequencies. By iterating through each character in the input string, I updated the dictionary to count how often each character appeared. After iterating through the string, I found the character with the highest count by iterating through the dictionary's items and printed it along with its frequency using an f-string for formatting."
   ]
  },
  {
   "cell_type": "markdown",
   "id": "7079ebac",
   "metadata": {},
   "source": [
    "# Programming Exercise 2"
   ]
  },
  {
   "cell_type": "code",
   "execution_count": 9,
   "id": "c0b7ac69",
   "metadata": {},
   "outputs": [
    {
     "name": "stdout",
     "output_type": "stream",
     "text": [
      "Enter a series of single-digit numbers without spaces: 2567\n",
      "The sum of single-digit numbers is: 20\n"
     ]
    }
   ],
   "source": [
    "def main():\n",
    "    # Input a series of single-digit numbers from the user\n",
    "    num_str = input(\"Enter a series of single-digit numbers without spaces: \")\n",
    "    \n",
    "    # Initialize sum variable\n",
    "    total_sum = 0\n",
    "    \n",
    "    # Iterate through each character in the input string\n",
    "    for char in num_str:\n",
    "        # Convert character to integer\n",
    "        digit = int(char)\n",
    "        # Add digit to total sum\n",
    "        total_sum += digit\n",
    "    \n",
    "    # Print the total sum of single-digit numbers\n",
    "    print(f\"The sum of single-digit numbers is: {total_sum}\")\n",
    "\n",
    "if __name__ == \"__main__\":\n",
    "    main()\n"
   ]
  },
  {
   "cell_type": "markdown",
   "id": "d6f3ae85",
   "metadata": {},
   "source": [
    "Sum up single-digit numbers entered consecutively without spaces. Starting with prompting the user to input the digits, I used a loop to iterate through each character, converting it to an integer and adding it to a running total. After processing all characters, I printed the total sum using Python's formatted string for clarity, which easily showed the cumulative sum of the numbers entered."
   ]
  }
 ],
 "metadata": {
  "kernelspec": {
   "display_name": "Python 3 (ipykernel)",
   "language": "python",
   "name": "python3"
  },
  "language_info": {
   "codemirror_mode": {
    "name": "ipython",
    "version": 3
   },
   "file_extension": ".py",
   "mimetype": "text/x-python",
   "name": "python",
   "nbconvert_exporter": "python",
   "pygments_lexer": "ipython3",
   "version": "3.11.7"
  }
 },
 "nbformat": 4,
 "nbformat_minor": 5
}
