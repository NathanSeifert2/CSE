{
 "cells": [
  {
   "cell_type": "markdown",
   "id": "c5c588a5",
   "metadata": {},
   "source": [
    "  # Algorithm Workbench Problem 4"
   ]
  },
  {
   "cell_type": "code",
   "execution_count": 1,
   "id": "2e99f2d2",
   "metadata": {},
   "outputs": [
    {
     "ename": "SyntaxError",
     "evalue": "invalid syntax (3733700320.py, line 1)",
     "output_type": "error",
     "traceback": [
      "\u001b[1;36m  Cell \u001b[1;32mIn[1], line 1\u001b[1;36m\u001b[0m\n\u001b[1;33m    The problem asks us to rewrite this code because it has improper alignment and indentation.\u001b[0m\n\u001b[1;37m        ^\u001b[0m\n\u001b[1;31mSyntaxError\u001b[0m\u001b[1;31m:\u001b[0m invalid syntax\n"
     ]
    }
   ],
   "source": [
    "The problem asks us to rewrite this code because it has improper alignment and indentation.\n",
    "\n",
    "If score>=A_score:\n",
    "print('Your grade is A')\n",
    "else:\n",
    "If score>=B_score:\n",
    "print('Your grade is B')\n",
    "else:\n",
    "If score>=C_score:\n",
    "print('Your grade is C')\n",
    "else:\n",
    "If score>=D_score:\n",
    "print('Your grade is D')\n",
    "else:\n",
    "print('Your grade is F')"
   ]
  },
  {
   "cell_type": "code",
   "execution_count": 1,
   "id": "5c28294a",
   "metadata": {},
   "outputs": [
    {
     "ename": "SyntaxError",
     "evalue": "invalid syntax (3675963241.py, line 1)",
     "output_type": "error",
     "traceback": [
      "\u001b[1;36m  Cell \u001b[1;32mIn[1], line 1\u001b[1;36m\u001b[0m\n\u001b[1;33m    If score >= A_score:\u001b[0m\n\u001b[1;37m       ^\u001b[0m\n\u001b[1;31mSyntaxError\u001b[0m\u001b[1;31m:\u001b[0m invalid syntax\n"
     ]
    }
   ],
   "source": [
    "If score >= A_score:\n",
    "    print('Your grade is A')\n",
    "else:\n",
    "    If score >= B_score:\n",
    "        print('Your grade is B')\n",
    "    else:\n",
    "        If score >= C_score:\n",
    "            print('Your grade is C')\n",
    "        else:\n",
    "            If score >= D_score:\n",
    "                print('Your grade is D')\n",
    "            else:\n",
    "                print('Your grade is F')\n",
    "            "
   ]
  },
  {
   "cell_type": "markdown",
   "id": "9fb82fec",
   "metadata": {},
   "source": [
    "I changed the print statements by indenting them so they could be correclty aligned with their if statements. I also changed the else statements by properly aligning them with the corresponding if statement aswell. This is because all statements within a block have to be indented the same amount. In the first example, there was no indentation of the print statement or else statements. the error whern running the code asks me to define score but the question does not."
   ]
  },
  {
   "cell_type": "markdown",
   "id": "81db982f",
   "metadata": {},
   "source": [
    "# Algorithm Workbench Problem 5"
   ]
  },
  {
   "cell_type": "markdown",
   "id": "0d612e24",
   "metadata": {},
   "source": [
    "The question asks us to \"Write nested decision structures that perform the following: \n",
    "If amount1is greater than 10 and Amount2 is less than 100, display the greater of amount1 and amount2.\""
   ]
  },
  {
   "cell_type": "code",
   "execution_count": 3,
   "id": "5644eed7",
   "metadata": {},
   "outputs": [
    {
     "name": "stdout",
     "output_type": "stream",
     "text": [
      "The greater amount is: 83\n"
     ]
    }
   ],
   "source": [
    "# Sample values for Amount1 and Amount2\n",
    "Amount1 = 29\n",
    "Amount2 = 83\n",
    "\n",
    "# Nested decision structure\n",
    "if Amount1 > 10:\n",
    "    if Amount2 < 100:\n",
    "        # Both conditions are met, so we display the greater of the two amounts\n",
    "        if Amount1 > Amount2:\n",
    "            print(\"The greater amount is:\", Amount1)\n",
    "        else:\n",
    "            print(\"The greater amount is:\", Amount2)\n",
    "    else:\n",
    "        print(\"Amount2 is not less than 100.\")\n",
    "else:\n",
    "    print(\"Amount1 is not greater than 10.\")\n"
   ]
  },
  {
   "cell_type": "markdown",
   "id": "f77bd63e",
   "metadata": {},
   "source": [
    "I started with the if statements of amount1 > 10 and did the same for amounnt2 < 100. This checks that if the number is associated with one or the other it will use that specific block of code. Then compare the 2 to get the print option of if it is not greater than 10 or not less than 100."
   ]
  },
  {
   "cell_type": "code",
   "execution_count": null,
   "id": "1880d110",
   "metadata": {},
   "outputs": [],
   "source": []
  }
 ],
 "metadata": {
  "kernelspec": {
   "display_name": "Python 3 (ipykernel)",
   "language": "python",
   "name": "python3"
  },
  "language_info": {
   "codemirror_mode": {
    "name": "ipython",
    "version": 3
   },
   "file_extension": ".py",
   "mimetype": "text/x-python",
   "name": "python",
   "nbconvert_exporter": "python",
   "pygments_lexer": "ipython3",
   "version": "3.11.7"
  }
 },
 "nbformat": 4,
 "nbformat_minor": 5
}
