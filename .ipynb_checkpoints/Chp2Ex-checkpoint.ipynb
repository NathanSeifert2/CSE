{
 "cells": [
  {
   "cell_type": "markdown",
   "id": "e490d81d",
   "metadata": {},
   "source": [
    "# Chapter 2 Problems\n"
   ]
  },
  {
   "cell_type": "markdown",
   "id": "2fbc642d",
   "metadata": {},
   "source": [
    "## Algorithm Workbench - Problem 9\n",
    " I am being asked to predict what the following output will be."
   ]
  },
  {
   "cell_type": "code",
   "execution_count": null,
   "id": "098d8b00",
   "metadata": {},
   "outputs": [],
   "source": [
    "num = 99\n",
    "num = 5\n",
    "print(num)\n",
    "\n",
    "I beilive that the output will be 5 because the second line replaces the first one."
   ]
  }
 ],
 "metadata": {
  "kernelspec": {
   "display_name": "Python 3 (ipykernel)",
   "language": "python",
   "name": "python3"
  },
  "language_info": {
   "codemirror_mode": {
    "name": "ipython",
    "version": 3
   },
   "file_extension": ".py",
   "mimetype": "text/x-python",
   "name": "python",
   "nbconvert_exporter": "python",
   "pygments_lexer": "ipython3",
   "version": "3.11.7"
  }
 },
 "nbformat": 4,
 "nbformat_minor": 5
}
