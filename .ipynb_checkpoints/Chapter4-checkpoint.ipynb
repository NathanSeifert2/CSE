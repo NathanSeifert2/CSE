{
 "cells": [
  {
   "cell_type": "markdown",
   "id": "9cff7666",
   "metadata": {},
   "source": [
    "# Algorithm Workbench Problem 4"
   ]
  },
  {
   "cell_type": "code",
   "execution_count": null,
   "id": "7d4f7321",
   "metadata": {},
   "outputs": [
    {
     "name": "stdout",
     "output_type": "stream",
     "text": [
      "Enter a number: 5\n",
      "The result is: 50.0\n",
      "Enter a number: 7\n",
      "The result is: 70.0\n",
      "Enter a number: 1\n",
      "The result is: 10.0\n",
      "Enter a number: 2\n",
      "The result is: 20.0\n",
      "Enter a number: 3\n",
      "The result is: 30.0\n"
     ]
    }
   ],
   "source": [
    "# Initialize the variable `result` to ensure the loop starts\n",
    "result = 0\n",
    "\n",
    "# Loop as long as `result` is less than 100\n",
    "while result < 100:\n",
    "    # Prompt the user to enter a number\n",
    "    number = float(input(\"Enter a number: \"))\n",
    "    \n",
    "    # Multiply the number by 10 and assign it to `result`\n",
    "    result = number * 10\n",
    "    \n",
    "    # Print the result\n",
    "    print(f\"The result is: {result}\")\n",
    "\n",
    "print(\"The loop has ended because the result is 100 or more.\")\n"
   ]
  },
  {
   "cell_type": "markdown",
   "id": "fa03845b",
   "metadata": {},
   "source": [
    "This code asks to enter a number using float and it mutliplies it by 10. It will not go any higher than 100. It keeps looping until 100 or more."
   ]
  },
  {
   "cell_type": "markdown",
   "id": "aeb084a4",
   "metadata": {},
   "source": [
    "# Algorithm Workbench Problem 2"
   ]
  },
  {
   "cell_type": "code",
   "execution_count": null,
   "id": "2299425a",
   "metadata": {},
   "outputs": [],
   "source": [
    "# while True:\n",
    "    # Prompt the user to enter the first number\n",
    "    number1 = float(input(\"Enter the first number: \"))\n",
    "    \n",
    "    # Prompt the user to enter the second number\n",
    "    number2 = float(input(\"Enter the second number: \"))\n",
    "    \n",
    "    # Calculate the sum of the two numbers\n",
    "    total = number1 + number2\n",
    "    \n",
    "    # Display the sum\n",
    "    print(f\"The sum is: {total}\")\n",
    "    \n",
    "    # Ask the user if they want to perform the operation again\n",
    "    again = input(\"Do you want to perform the operation again? (yes/no): \").strip().lower()\n",
    "    \n",
    "    # If the user does not want to continue, break the loop\n",
    "    if again != \"yes\":\n",
    "        break\n",
    "\n",
    "print(\"The loop has ended.\")\n"
   ]
  },
  {
   "cell_type": "markdown",
   "id": "9c80e918",
   "metadata": {},
   "source": [
    "The while true is used to create an infinite loop. Then when entering 2 numbers the numbers are added and sum is displayed with the total. Then break is used and print to show the statement."
   ]
  },
  {
   "cell_type": "markdown",
   "id": "2511b8bf",
   "metadata": {},
   "source": [
    "# Programming Exercise problem 1"
   ]
  },
  {
   "cell_type": "code",
   "execution_count": null,
   "id": "44855ff0",
   "metadata": {},
   "outputs": [],
   "source": [
    "# Initialize the total number of bugs collected to 0\n",
    "total_bugs = 0\n",
    "\n",
    "# Loop to collect bugs for 5 days\n",
    "for day in range(1, 6):\n",
    "    # Ask the user for the number of bugs collected on this day\n",
    "    bugs_collected = int(input(f\"Enter the number of bugs collected on day {day}: \"))\n",
    "    \n",
    "    # Add the number of bugs collected to the total\n",
    "    total_bugs += bugs_collected\n",
    "\n",
    "# Display the total number of bugs collected\n",
    "print(f\"The total number of bugs collected over 5 days is: {total_bugs}\")\n"
   ]
  },
  {
   "cell_type": "markdown",
   "id": "3cf90728",
   "metadata": {},
   "source": [
    "We used total bugs as the variable. Looped it for 5 days using loop from 1-5. Then used input to promt the number of bugs for each day using int. Then updated the total bugs and print."
   ]
  },
  {
   "cell_type": "markdown",
   "id": "f73fba24",
   "metadata": {},
   "source": [
    "# Programming Exercise Problem 4"
   ]
  },
  {
   "cell_type": "code",
   "execution_count": null,
   "id": "07058ce5",
   "metadata": {},
   "outputs": [],
   "source": [
    "# Ask the user for the speed of the vehicle in miles per hour\n",
    "speed = float(input(\"Enter the speed of the vehicle (in miles per hour): \"))\n",
    "\n",
    "# Ask the user for the number of hours the vehicle has traveled\n",
    "hours = int(input(\"Enter the number of hours the vehicle has traveled: \"))\n",
    "\n",
    "# Display a header for the output\n",
    "print(\"\\nHour\\tDistance Traveled\")\n",
    "print(\"--------------------------\")\n",
    "\n",
    "# Loop through each hour and calculate the distance traveled\n",
    "for hour in range(1, hours + 1):\n",
    "    distance = speed * hour\n",
    "    print(f\"{hour}\\t{distance:.2f} miles\")\n"
   ]
  },
  {
   "cell_type": "markdown",
   "id": "b73b2435",
   "metadata": {},
   "source": [
    "Used float and input speed to input the speed in mph. Then used input again for the hours and converted into int. Next was loops and it used the formula provided. Printed the results of the loop."
   ]
  },
  {
   "cell_type": "markdown",
   "id": "61f9d696",
   "metadata": {},
   "source": [
    "# Programming Exercise Problem 13"
   ]
  },
  {
   "cell_type": "code",
   "execution_count": null,
   "id": "6fd16d45",
   "metadata": {},
   "outputs": [],
   "source": [
    "# Number of rows in the pattern\n",
    "rows = 7\n",
    "\n",
    "# Outer loop for each row\n",
    "for i in range(rows, 0, -1):\n",
    "    # Inner loop for each column in the current row\n",
    "    for j in range(i):\n",
    "        print('*', end='')\n",
    "    # Print a newline character after each row\n",
    "    print()\n",
    "\n"
   ]
  },
  {
   "cell_type": "markdown",
   "id": "328ea77c",
   "metadata": {},
   "source": [
    "\n",
    "The program uses an outer loop to iterate from 7 down to 1, and an inner loop to print the corresponding number of asterisks for each row. After printing the asterisks for each row, it moves to a new line to form the desired pattern."
   ]
  },
  {
   "cell_type": "markdown",
   "id": "a5f3d71e",
   "metadata": {},
   "source": [
    "# Programming Exercise Problem 14"
   ]
  },
  {
   "cell_type": "code",
   "execution_count": null,
   "id": "33b7a108",
   "metadata": {},
   "outputs": [],
   "source": [
    "# Number of rows in the pattern\n",
    "rows = 6\n",
    "\n",
    "# Outer loop for each row\n",
    "for i in range(rows):\n",
    "    # Inner loop for each column in the current row\n",
    "    for j in range(rows):\n",
    "        # Print '#' if the current column index matches the row index, otherwise print a space\n",
    "        if j == i:\n",
    "            print('#', end='')\n",
    "        else:\n",
    "            print(' ', end='')\n",
    "    # Move to the next line after each row\n",
    "    print()\n"
   ]
  },
  {
   "cell_type": "markdown",
   "id": "553e156a",
   "metadata": {},
   "source": [
    "Used nested loops to print the diagonal pattern of #. With the Spaces filling each row and then it makes the pattern using print at the end."
   ]
  }
 ],
 "metadata": {
  "kernelspec": {
   "display_name": "Python 3 (ipykernel)",
   "language": "python",
   "name": "python3"
  },
  "language_info": {
   "codemirror_mode": {
    "name": "ipython",
    "version": 3
   },
   "file_extension": ".py",
   "mimetype": "text/x-python",
   "name": "python",
   "nbconvert_exporter": "python",
   "pygments_lexer": "ipython3",
   "version": "3.11.7"
  }
 },
 "nbformat": 4,
 "nbformat_minor": 5
}
