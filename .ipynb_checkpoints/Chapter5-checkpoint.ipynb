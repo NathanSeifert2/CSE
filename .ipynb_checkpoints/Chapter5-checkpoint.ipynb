{
 "cells": [
  {
   "cell_type": "markdown",
   "id": "028d1625",
   "metadata": {},
   "source": [
    "# Algorithm Workbench Problem 1"
   ]
  },
  {
   "cell_type": "code",
   "execution_count": 4,
   "id": "cccaff1e",
   "metadata": {},
   "outputs": [
    {
     "name": "stdout",
     "output_type": "stream",
     "text": [
      "50\n",
      "125.0\n",
      "-30\n"
     ]
    }
   ],
   "source": [
    "def times_ten(value):\n",
    "    result = value * 10\n",
    "    print(result)\n",
    "times_ten(5)     \n",
    "times_ten(12.5)  \n",
    "times_ten(-3)    \n"
   ]
  },
  {
   "cell_type": "markdown",
   "id": "2b94ef85",
   "metadata": {},
   "source": [
    "Using the function \"times_ten\" it mulitplies its input by 10. Just add a single number or integer and it gives the multiplied result as the return"
   ]
  },
  {
   "cell_type": "markdown",
   "id": "cbbe138b",
   "metadata": {},
   "source": [
    "# Algorithm Workbench Problem 10"
   ]
  },
  {
   "cell_type": "code",
   "execution_count": 6,
   "id": "0b011712",
   "metadata": {},
   "outputs": [
    {
     "name": "stdout",
     "output_type": "stream",
     "text": [
      "Please enter your first name: nathan\n",
      "Your first name is nathan.\n"
     ]
    }
   ],
   "source": [
    "def get_first_name():\n",
    "    first_name = input(\"Please enter your first name: \")\n",
    "    return first_name\n",
    "name = get_first_name()\n",
    "print(f\"Your first name is {name}.\")\n"
   ]
  },
  {
   "cell_type": "markdown",
   "id": "4c1dccf1",
   "metadata": {},
   "source": [
    "The get_first_name function prompts the person to provide their personal name. Then it returns the retrieved response for further use. It is a simple script  that ensures easy input and return of info."
   ]
  },
  {
   "cell_type": "markdown",
   "id": "f8b3b84a",
   "metadata": {},
   "source": [
    "# Programming Exercise 1 "
   ]
  },
  {
   "cell_type": "code",
   "execution_count": 8,
   "id": "b771fa59",
   "metadata": {},
   "outputs": [
    {
     "name": "stdout",
     "output_type": "stream",
     "text": [
      "Enter the distance in kilometers: 25\n",
      "The distance in miles is: 15.534999999999998\n"
     ]
    }
   ],
   "source": [
    "def kilometers_to_miles(kilometers):\n",
    "    miles = kilometers * 0.6214\n",
    "    return miles\n",
    "\n",
    "def main():\n",
    "    # Ask the user to enter a distance in kilometers\n",
    "    kilometers = float(input(\"Enter the distance in kilometers: \"))\n",
    "    \n",
    "    # Convert the distance to miles using the function\n",
    "    miles = kilometers_to_miles(kilometers)\n",
    "    \n",
    "    # Display the converted distance\n",
    "    print(f\"The distance in miles is: {miles}\")\n",
    "\n",
    "# Run the main function\n",
    "if __name__ == \"__main__\":\n",
    "    main()\n"
   ]
  },
  {
   "cell_type": "markdown",
   "id": "260135c5",
   "metadata": {},
   "source": [
    "This program prompts the user to provide a distance in kilometers, utilizing a function kilometers_to_miles to convert this input into miles using the conversion factor of 0.6214. Next, the converted distance in miles is then printed out for clarity. "
   ]
  },
  {
   "cell_type": "markdown",
   "id": "4d18ff14",
   "metadata": {},
   "source": [
    "# Programming Exercise 16"
   ]
  },
  {
   "cell_type": "code",
   "execution_count": 9,
   "id": "4f118f67",
   "metadata": {},
   "outputs": [
    {
     "name": "stdout",
     "output_type": "stream",
     "text": [
      "Enter a number to check if it's prime: 3\n",
      "3 is a prime number.\n"
     ]
    }
   ],
   "source": [
    "import math\n",
    "\n",
    "def is_prime(number):\n",
    "    if number <= 1:\n",
    "        return False\n",
    "    if number == 2:\n",
    "        return True  # 2 is a prime number\n",
    "    if number % 2 == 0:\n",
    "        return False  # Any even number greater than 2 is not prime\n",
    "    \n",
    "    # Check for odd divisors from 3 up to the square root of the number\n",
    "    sqrt_num = int(math.sqrt(number)) + 1\n",
    "    for divisor in range(3, sqrt_num, 2):\n",
    "        if number % divisor == 0:\n",
    "            return False\n",
    "    \n",
    "    return True\n",
    "\n",
    "def main():\n",
    "    number = int(input(\"Enter a number to check if it's prime: \"))\n",
    "    \n",
    "    if is_prime(number):\n",
    "        print(f\"{number} is a prime number.\")\n",
    "    else:\n",
    "        print(f\"{number} is not a prime number.\")\n",
    "\n",
    "if __name__ == \"__main__\":\n",
    "    main()\n"
   ]
  },
  {
   "cell_type": "markdown",
   "id": "6694168a",
   "metadata": {},
   "source": [
    "I've created a Python function is_prime that checks if a given number is prime by first handling special cases like numbers less than or equal to 1 and even numbers greater than 2. It then iterates through potential divisors up to the square root of the number to determine if it has any divisors other than 1 and itself. "
   ]
  },
  {
   "cell_type": "markdown",
   "id": "19f9d227",
   "metadata": {},
   "source": [
    "# Programming Exercise 17"
   ]
  }
 ],
 "metadata": {
  "kernelspec": {
   "display_name": "Python 3 (ipykernel)",
   "language": "python",
   "name": "python3"
  },
  "language_info": {
   "codemirror_mode": {
    "name": "ipython",
    "version": 3
   },
   "file_extension": ".py",
   "mimetype": "text/x-python",
   "name": "python",
   "nbconvert_exporter": "python",
   "pygments_lexer": "ipython3",
   "version": "3.11.7"
  }
 },
 "nbformat": 4,
 "nbformat_minor": 5
}
