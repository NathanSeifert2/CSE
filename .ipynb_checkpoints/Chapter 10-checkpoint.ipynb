{
 "cells": [
  {
   "cell_type": "markdown",
   "id": "965bce25",
   "metadata": {},
   "source": [
    "# Programming Exercise Problem 3"
   ]
  },
  {
   "cell_type": "code",
   "execution_count": null,
   "id": "4eb4cbb2",
   "metadata": {},
   "outputs": [],
   "source": [
    "class PersonalInformation:\n",
    "    def __init__(self, name, address, age, phone_number):\n",
    "        self.__name = name\n",
    "        self.__address = address\n",
    "        self.__age = age\n",
    "        self.__phone_number = phone_number\n",
    "\n",
    "    # Accessor methods (getters)\n",
    "    def get_name(self):\n",
    "        return self.__name\n",
    "\n",
    "    def get_address(self):\n",
    "        return self.__address\n",
    "\n",
    "    def get_age(self):\n",
    "        return self.__age\n",
    "\n",
    "    def get_phone_number(self):\n",
    "        return self.__phone_number\n",
    "\n",
    "    # Mutator methods (setters)\n",
    "    def set_name(self, name):\n",
    "        self.__name = name\n",
    "\n",
    "    def set_address(self, address):\n",
    "        self.__address = address\n",
    "\n",
    "    def set_age(self, age):\n",
    "        self.__age = age\n",
    "\n",
    "    def set_phone_number(self, phone_number):\n",
    "        self.__phone_number = phone_number\n",
    "\n"
   ]
  }
 ],
 "metadata": {
  "kernelspec": {
   "display_name": "Python 3 (ipykernel)",
   "language": "python",
   "name": "python3"
  },
  "language_info": {
   "codemirror_mode": {
    "name": "ipython",
    "version": 3
   },
   "file_extension": ".py",
   "mimetype": "text/x-python",
   "name": "python",
   "nbconvert_exporter": "python",
   "pygments_lexer": "ipython3",
   "version": "3.11.7"
  }
 },
 "nbformat": 4,
 "nbformat_minor": 5
}
