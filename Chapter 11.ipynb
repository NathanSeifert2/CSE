{
 "cells": [
  {
   "cell_type": "markdown",
   "id": "ac86c673",
   "metadata": {},
   "source": [
    "# Programming Exercise Problem 2"
   ]
  },
  {
   "cell_type": "code",
   "execution_count": 1,
   "id": "11665f5e",
   "metadata": {},
   "outputs": [
    {
     "name": "stdout",
     "output_type": "stream",
     "text": [
      "Name: Jane Doe\n",
      "Employee ID: 12345\n",
      "Annual Salary: $75,000.00\n",
      "Annual Production Bonus: $5,000.00\n"
     ]
    }
   ],
   "source": [
    "class Employee:\n",
    "    def __init__(self, name, employee_id):\n",
    "        self.name = name\n",
    "        self.employee_id = employee_id\n",
    "    \n",
    "    def display_info(self):\n",
    "        print(f\"Name: {self.name}\")\n",
    "        print(f\"Employee ID: {self.employee_id}\")\n",
    "\n",
    "class ShiftSupervisor(Employee):\n",
    "    def __init__(self, name, employee_id, annual_salary, annual_production_bonus):\n",
    "        super().__init__(name, employee_id)\n",
    "        self.annual_salary = annual_salary\n",
    "        self.annual_production_bonus = annual_production_bonus\n",
    "    \n",
    "    def display_info(self):\n",
    "        super().display_info()\n",
    "        print(f\"Annual Salary: ${self.annual_salary:,.2f}\")\n",
    "        print(f\"Annual Production Bonus: ${self.annual_production_bonus:,.2f}\")\n",
    "\n",
    "def main():\n",
    "    # Creating a ShiftSupervisor object\n",
    "    supervisor = ShiftSupervisor(\"Jane Doe\", \"12345\", 75000, 5000)\n",
    "    \n",
    "    # Displaying the supervisor's information\n",
    "    supervisor.display_info()\n",
    "\n",
    "if __name__ == \"__main__\":\n",
    "    main()\n"
   ]
  },
  {
   "cell_type": "markdown",
   "id": "128c52f3",
   "metadata": {},
   "source": [
    "I started by defining the Employee base class with basic attributes like name and employee_id. Next, I created the ShiftSupervisor subclass, inheriting from Employee, and added attributes for annual_salary and annual_production_bonus. In the ShiftSupervisor class, I used the super() function to call the parent class's __init__ method and also included an overridden display_info method to print all the details. For demonstration, I wrote a main function where I instantiated a ShiftSupervisor object with sample data and called the display_info method to show the supervisor's information. Iteratively refining the code, I ensured it was modular, with clear inheritance and method overriding to maintain clean and readable code."
   ]
  },
  {
   "cell_type": "markdown",
   "id": "f1c23996",
   "metadata": {},
   "source": [
    "# Programming Exercise #3"
   ]
  },
  {
   "cell_type": "code",
   "execution_count": null,
   "id": "78b8cc9f",
   "metadata": {},
   "outputs": [],
   "source": []
  }
 ],
 "metadata": {
  "kernelspec": {
   "display_name": "Python 3 (ipykernel)",
   "language": "python",
   "name": "python3"
  },
  "language_info": {
   "codemirror_mode": {
    "name": "ipython",
    "version": 3
   },
   "file_extension": ".py",
   "mimetype": "text/x-python",
   "name": "python",
   "nbconvert_exporter": "python",
   "pygments_lexer": "ipython3",
   "version": "3.11.7"
  }
 },
 "nbformat": 4,
 "nbformat_minor": 5
}
