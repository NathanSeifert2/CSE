{
 "cells": [
  {
   "cell_type": "markdown",
   "id": "dea017c5",
   "metadata": {},
   "source": [
    "# Nathan Seifert"
   ]
  },
  {
   "attachments": {},
   "cell_type": "markdown",
   "id": "ff6200bd",
   "metadata": {},
   "source": [
    "# Programming Exercise Problem 2"
   ]
  },
  {
   "cell_type": "code",
   "execution_count": 1,
   "id": "17482318",
   "metadata": {},
   "outputs": [
    {
     "name": "stdout",
     "output_type": "stream",
     "text": [
      "Name: Jane Doe\n",
      "Employee ID: 12345\n",
      "Annual Salary: $75,000.00\n",
      "Annual Production Bonus: $5,000.00\n"
     ]
    }
   ],
   "source": [
    "class Employee:\n",
    "    def __init__(self, name, employee_id):\n",
    "        self.name = name\n",
    "        self.employee_id = employee_id\n",
    "    \n",
    "    def display_info(self):\n",
    "        print(f\"Name: {self.name}\")\n",
    "        print(f\"Employee ID: {self.employee_id}\")\n",
    "\n",
    "class ShiftSupervisor(Employee):\n",
    "    def __init__(self, name, employee_id, annual_salary, annual_production_bonus):\n",
    "        super().__init__(name, employee_id)\n",
    "        self.annual_salary = annual_salary\n",
    "        self.annual_production_bonus = annual_production_bonus\n",
    "    \n",
    "    def display_info(self):\n",
    "        super().display_info()\n",
    "        print(f\"Annual Salary: ${self.annual_salary:,.2f}\")\n",
    "        print(f\"Annual Production Bonus: ${self.annual_production_bonus:,.2f}\")\n",
    "\n",
    "def main():\n",
    "    # Creating a ShiftSupervisor object\n",
    "    supervisor = ShiftSupervisor(\"Jane Doe\", \"12345\", 75000, 5000)\n",
    "    \n",
    "    # Displaying the supervisor's information\n",
    "    supervisor.display_info()\n",
    "\n",
    "if __name__ == \"__main__\":\n",
    "    main()\n"
   ]
  },
  {
   "cell_type": "code",
   "execution_count": null,
   "id": "ffc51f9e",
   "metadata": {},
   "outputs": [],
   "source": [
    "[Start]\n",
    "   |\n",
    "   v\n",
    "[Define Employee Class]\n",
    "   |\n",
    "   v\n",
    "[Define Shift Supervisor Class]\n",
    "   |\n",
    "   v\n",
    "[Main Function]\n",
    "   |\n",
    "   v\n",
    "[Create Shift Supervisor Object]\n",
    "   |\n",
    "   v\n",
    "[Display Shift Supervisor Information]\n",
    "   |\n",
    "   v\n",
    "[End]\n"
   ]
  },
  {
   "cell_type": "markdown",
   "id": "c3c0b2b5",
   "metadata": {},
   "source": [
    "I started by defining the Employee base class with basic attributes like name and employee_id. Next, I created the ShiftSupervisor subclass, inheriting from Employee, and added attributes for annual_salary and annual_production_bonus. In the ShiftSupervisor class, I used the super() function to call the parent class's __init__ method and also included an overridden display_info method to print all the details. For demonstration, I wrote a main function where I instantiated a ShiftSupervisor object with sample data and called the display_info method to show the supervisor's information. Iteratively refining the code, I ensured it was modular, with clear inheritance and method overriding to maintain clean and readable code."
   ]
  },
  {
   "cell_type": "markdown",
   "id": "3aba9634",
   "metadata": {},
   "source": [
    "# Programming Exercise #3"
   ]
  },
  {
   "cell_type": "code",
   "execution_count": 2,
   "id": "b1cc56d2",
   "metadata": {},
   "outputs": [
    {
     "name": "stdout",
     "output_type": "stream",
     "text": [
      "Name: John Smith\n",
      "Address: 123 Elm Street\n",
      "Telephone Number: 555-1234\n",
      "Customer Number: C12345\n",
      "On Mailing List: Yes\n"
     ]
    }
   ],
   "source": [
    "class Person:\n",
    "    def __init__(self, name, address, telephone_number):\n",
    "        self.name = name\n",
    "        self.address = address\n",
    "        self.telephone_number = telephone_number\n",
    "\n",
    "    def display_info(self):\n",
    "        print(f\"Name: {self.name}\")\n",
    "        print(f\"Address: {self.address}\")\n",
    "        print(f\"Telephone Number: {self.telephone_number}\")\n",
    "\n",
    "class Customer(Person):\n",
    "    def __init__(self, name, address, telephone_number, customer_number, on_mailing_list):\n",
    "        super().__init__(name, address, telephone_number)\n",
    "        self.customer_number = customer_number\n",
    "        self.on_mailing_list = on_mailing_list\n",
    "\n",
    "    def display_info(self):\n",
    "        super().display_info()\n",
    "        print(f\"Customer Number: {self.customer_number}\")\n",
    "        print(f\"On Mailing List: {'Yes' if self.on_mailing_list else 'No'}\")\n",
    "\n",
    "def main():\n",
    "    # Creating a Customer object\n",
    "    customer = Customer(\"John Smith\", \"123 Elm Street\", \"555-1234\", \"C12345\", True)\n",
    "    \n",
    "    # Displaying the customer's information\n",
    "    customer.display_info()\n",
    "\n",
    "if __name__ == \"__main__\":\n",
    "    main()\n"
   ]
  },
  {
   "attachments": {},
   "cell_type": "markdown",
   "id": "d80d849d",
   "metadata": {},
   "source": [
    "[Start]\n",
    "   |\n",
    "   v\n",
    "[Define Person Class]\n",
    "   |\n",
    "   v\n",
    "[Define Customer Class]\n",
    "   |\n",
    "   v\n",
    "[Main Function]\n",
    "   |\n",
    "   v\n",
    "[Create Customer Object]\n",
    "   |\n",
    "   v\n",
    "[Display Customer Information]\n",
    "   |\n",
    "   v\n",
    "[End]\n"
   ]
  },
  {
   "cell_type": "markdown",
   "id": "12f7ca76",
   "metadata": {},
   "source": [
    "I created a Person class with attributes for a person's name, address, and telephone number. Then, I developed the Customer class as a subclass of Person, adding attributes for the customer number and whether they want to be on a mailing list. I utilized iteration in the display_info method of both classes to print out the details systematically. In my demonstration program, I instantiated a Customer object with sample data and called the display_info method to show all the information. This iterative approach ensured that each class builds upon the previous one, maintaining clarity and functionality."
   ]
  }
 ],
 "metadata": {
  "kernelspec": {
   "display_name": "Python 3 (ipykernel)",
   "language": "python",
   "name": "python3"
  },
  "language_info": {
   "codemirror_mode": {
    "name": "ipython",
    "version": 3
   },
   "file_extension": ".py",
   "mimetype": "text/x-python",
   "name": "python",
   "nbconvert_exporter": "python",
   "pygments_lexer": "ipython3",
   "version": "3.11.7"
  }
 },
 "nbformat": 4,
 "nbformat_minor": 5
}
