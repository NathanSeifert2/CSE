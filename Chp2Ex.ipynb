{
 "cells": [
  {
   "cell_type": "markdown",
   "id": "e490d81d",
   "metadata": {},
   "source": [
    "# Chapter 2 Problems\n"
   ]
  },
  {
   "cell_type": "markdown",
   "id": "2fbc642d",
   "metadata": {},
   "source": [
    "## Algorithm Workbench - Problem 9\n",
    " I am being asked to predict what the following output will be."
   ]
  },
  {
   "cell_type": "code",
   "execution_count": 2,
   "id": "098d8b00",
   "metadata": {},
   "outputs": [
    {
     "name": "stdout",
     "output_type": "stream",
     "text": [
      "5\n"
     ]
    }
   ],
   "source": [
    "num = 99\n",
    "num = 5\n",
    "print(num)\n"
   ]
  },
  {
   "cell_type": "markdown",
   "id": "9c6f34dd",
   "metadata": {},
   "source": [
    "I believe that the output will be 5 because the second line replaces the first one. The print functions is pretty simple and will print the most recent input for the specific term."
   ]
  },
  {
   "cell_type": "markdown",
   "id": "9a275e88",
   "metadata": {},
   "source": [
    "Programming Exercise Problem 1"
   ]
  },
  {
   "cell_type": "code",
   "execution_count": 6,
   "id": "0dd5c0d7",
   "metadata": {},
   "outputs": [
    {
     "name": "stdout",
     "output_type": "stream",
     "text": [
      "Nathan Seifert\n",
      "2045 Heliport LoopRiverfolk, IN 43286\n",
      "123-456-7890\n",
      "Business\n"
     ]
    }
   ],
   "source": [
    "# Input Student Info\n",
    "Name = \"Nathan Seifert\"\n",
    "Address = \"2045 Heliport LoopRiverfolk, IN 43286\"\n",
    "PhoneNumber = \"123-456-7890\"\n",
    "Major = \"Business\"\n",
    "\n",
    "# Print Student Infomation\n",
    "print(Name)\n",
    "print(Address)\n",
    "print(PhoneNumber)\n",
    "print(Major)"
   ]
  },
  {
   "cell_type": "markdown",
   "id": "dab942ad",
   "metadata": {},
   "source": [
    "For this exercise it was asking to input specific information for specific categories. Once we did that I used the print \n",
    "command to show the output for those catgegories."
   ]
  }
 ],
 "metadata": {
  "kernelspec": {
   "display_name": "Python 3 (ipykernel)",
   "language": "python",
   "name": "python3"
  },
  "language_info": {
   "codemirror_mode": {
    "name": "ipython",
    "version": 3
   },
   "file_extension": ".py",
   "mimetype": "text/x-python",
   "name": "python",
   "nbconvert_exporter": "python",
   "pygments_lexer": "ipython3",
   "version": "3.11.7"
  }
 },
 "nbformat": 4,
 "nbformat_minor": 5
}
